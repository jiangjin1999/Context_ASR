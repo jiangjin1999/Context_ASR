{
 "cells": [
  {
   "cell_type": "code",
   "execution_count": 23,
   "metadata": {},
   "outputs": [],
   "source": [
    "path_input = '/home/jiangjin/context/data/zh/AISHELL-1/old/AISHELL-1_train.txt'\n",
    "path_output = '/home/jiangjin/context/data/zh/AISHELL-1/old/AISHELL-1_test_doc.txt'"
   ]
  },
  {
   "cell_type": "code",
   "execution_count": 24,
   "metadata": {},
   "outputs": [
    {
     "name": "stdout",
     "output_type": "stream",
     "text": [
      "BAC009S0002W0122 而对楼市成交抑制作用最大的限购。 而对面楼市成交抑制作用最大的限购。\n",
      "\n"
     ]
    }
   ],
   "source": [
    "with open(path_input, 'r') as f:\n",
    "    lines = f.readlines()\n",
    "    print(lines[0])\n",
    "    data = lines[1:]\n",
    "    utts = [item.strip().split(' ')[0] for item in data]\n",
    "    labels = [item.strip().split(' ')[1] for item in data]\n",
    "    records = [item.strip().split(' ')[2] for item in data]"
   ]
  },
  {
   "cell_type": "code",
   "execution_count": 25,
   "metadata": {},
   "outputs": [
    {
     "data": {
      "text/plain": [
       "0.04082002167339118"
      ]
     },
     "execution_count": 25,
     "metadata": {},
     "output_type": "execute_result"
    }
   ],
   "source": [
    "import evaluate\n",
    "metric = evaluate.load('cer')\n",
    "value = metric.compute(references=labels, predictions=records)\n",
    "value"
   ]
  },
  {
   "cell_type": "code",
   "execution_count": 26,
   "metadata": {},
   "outputs": [],
   "source": [
    "path_input = '/home/jiangjin/context/data/zh/AISHELL-1/AISHELL-1_train.txt'\n",
    "path_output = '/home/jiangjin/context/data/zh/AISHELL-1/AISHELL-1_test_doc.txt'"
   ]
  },
  {
   "cell_type": "code",
   "execution_count": 27,
   "metadata": {},
   "outputs": [],
   "source": [
    "lists = []\n",
    "lists.append('utt\\tlabel\\trecord\\t'+str(value)+'\\n')\n",
    "for i in range(len(utts)):\n",
    "    lists.append(utts[i]+'\\t'+labels[i]+'\\t'+records[i]+'\\n')"
   ]
  },
  {
   "cell_type": "code",
   "execution_count": 28,
   "metadata": {},
   "outputs": [],
   "source": [
    "with open(path_input, 'w') as f_output:\n",
    "    f_output.writelines(lists)"
   ]
  },
  {
   "cell_type": "code",
   "execution_count": 4,
   "metadata": {},
   "outputs": [
    {
     "name": "stdout",
     "output_type": "stream",
     "text": [
      "BAC009S0764W0121 甚至出现交易几乎停滞的情况。 甚至出现交易几乎停滞的情况。\n",
      "\n"
     ]
    },
    {
     "ename": "IndexError",
     "evalue": "list index out of range",
     "output_type": "error",
     "traceback": [
      "\u001b[0;31m---------------------------------------------------------------------------\u001b[0m",
      "\u001b[0;31mIndexError\u001b[0m                                Traceback (most recent call last)",
      "\u001b[1;32m/home/jiangjin/context/data/base2doc_zh.ipynb 单元格 2\u001b[0m in \u001b[0;36m<cell line: 1>\u001b[0;34m()\u001b[0m\n\u001b[1;32m      <a href='vscode-notebook-cell://ssh-remote%2B222.29.51.156/home/jiangjin/context/data/base2doc_zh.ipynb#W1sdnNjb2RlLXJlbW90ZQ%3D%3D?line=3'>4</a>\u001b[0m data \u001b[39m=\u001b[39m lines[\u001b[39m1\u001b[39m:]\n\u001b[1;32m      <a href='vscode-notebook-cell://ssh-remote%2B222.29.51.156/home/jiangjin/context/data/base2doc_zh.ipynb#W1sdnNjb2RlLXJlbW90ZQ%3D%3D?line=4'>5</a>\u001b[0m utts \u001b[39m=\u001b[39m [item\u001b[39m.\u001b[39mstrip()\u001b[39m.\u001b[39msplit(\u001b[39m'\u001b[39m\u001b[39m\\t\u001b[39;00m\u001b[39m'\u001b[39m)[\u001b[39m0\u001b[39m] \u001b[39mfor\u001b[39;00m item \u001b[39min\u001b[39;00m data]\n\u001b[0;32m----> <a href='vscode-notebook-cell://ssh-remote%2B222.29.51.156/home/jiangjin/context/data/base2doc_zh.ipynb#W1sdnNjb2RlLXJlbW90ZQ%3D%3D?line=5'>6</a>\u001b[0m labels \u001b[39m=\u001b[39m [item\u001b[39m.\u001b[39mstrip()\u001b[39m.\u001b[39msplit(\u001b[39m'\u001b[39m\u001b[39m\\t\u001b[39;00m\u001b[39m'\u001b[39m)[\u001b[39m1\u001b[39m] \u001b[39mfor\u001b[39;00m item \u001b[39min\u001b[39;00m data]\n\u001b[1;32m      <a href='vscode-notebook-cell://ssh-remote%2B222.29.51.156/home/jiangjin/context/data/base2doc_zh.ipynb#W1sdnNjb2RlLXJlbW90ZQ%3D%3D?line=6'>7</a>\u001b[0m records \u001b[39m=\u001b[39m [item\u001b[39m.\u001b[39mstrip()\u001b[39m.\u001b[39msplit(\u001b[39m'\u001b[39m\u001b[39m\\t\u001b[39;00m\u001b[39m'\u001b[39m)[\u001b[39m2\u001b[39m] \u001b[39mfor\u001b[39;00m item \u001b[39min\u001b[39;00m data]\n",
      "\u001b[1;32m/home/jiangjin/context/data/base2doc_zh.ipynb 单元格 2\u001b[0m in \u001b[0;36m<listcomp>\u001b[0;34m(.0)\u001b[0m\n\u001b[1;32m      <a href='vscode-notebook-cell://ssh-remote%2B222.29.51.156/home/jiangjin/context/data/base2doc_zh.ipynb#W1sdnNjb2RlLXJlbW90ZQ%3D%3D?line=3'>4</a>\u001b[0m data \u001b[39m=\u001b[39m lines[\u001b[39m1\u001b[39m:]\n\u001b[1;32m      <a href='vscode-notebook-cell://ssh-remote%2B222.29.51.156/home/jiangjin/context/data/base2doc_zh.ipynb#W1sdnNjb2RlLXJlbW90ZQ%3D%3D?line=4'>5</a>\u001b[0m utts \u001b[39m=\u001b[39m [item\u001b[39m.\u001b[39mstrip()\u001b[39m.\u001b[39msplit(\u001b[39m'\u001b[39m\u001b[39m\\t\u001b[39;00m\u001b[39m'\u001b[39m)[\u001b[39m0\u001b[39m] \u001b[39mfor\u001b[39;00m item \u001b[39min\u001b[39;00m data]\n\u001b[0;32m----> <a href='vscode-notebook-cell://ssh-remote%2B222.29.51.156/home/jiangjin/context/data/base2doc_zh.ipynb#W1sdnNjb2RlLXJlbW90ZQ%3D%3D?line=5'>6</a>\u001b[0m labels \u001b[39m=\u001b[39m [item\u001b[39m.\u001b[39;49mstrip()\u001b[39m.\u001b[39;49msplit(\u001b[39m'\u001b[39;49m\u001b[39m\\t\u001b[39;49;00m\u001b[39m'\u001b[39;49m)[\u001b[39m1\u001b[39;49m] \u001b[39mfor\u001b[39;00m item \u001b[39min\u001b[39;00m data]\n\u001b[1;32m      <a href='vscode-notebook-cell://ssh-remote%2B222.29.51.156/home/jiangjin/context/data/base2doc_zh.ipynb#W1sdnNjb2RlLXJlbW90ZQ%3D%3D?line=6'>7</a>\u001b[0m records \u001b[39m=\u001b[39m [item\u001b[39m.\u001b[39mstrip()\u001b[39m.\u001b[39msplit(\u001b[39m'\u001b[39m\u001b[39m\\t\u001b[39;00m\u001b[39m'\u001b[39m)[\u001b[39m2\u001b[39m] \u001b[39mfor\u001b[39;00m item \u001b[39min\u001b[39;00m data]\n",
      "\u001b[0;31mIndexError\u001b[0m: list index out of range"
     ]
    }
   ],
   "source": [
    "with open(path_input, 'r') as f:\n",
    "    lines = f.readlines()\n",
    "    print(lines[0])\n",
    "    data = lines[1:]\n",
    "    utts = [item.strip().split('\\t')[0] for item in data]\n",
    "    labels = [item.strip().split('\\t')[1] for item in data]\n",
    "    records = [item.strip().split('\\t')[2] for item in data]"
   ]
  },
  {
   "cell_type": "code",
   "execution_count": null,
   "metadata": {},
   "outputs": [],
   "source": []
  },
  {
   "cell_type": "code",
   "execution_count": 22,
   "metadata": {},
   "outputs": [
    {
     "data": {
      "text/plain": [
       "0.18374715424018212"
      ]
     },
     "execution_count": 22,
     "metadata": {},
     "output_type": "execute_result"
    }
   ],
   "source": [
    "import evaluate\n",
    "metric = evaluate.load('cer')\n",
    "value = metric.compute(references=labels, predictions=records)\n",
    "value"
   ]
  },
  {
   "cell_type": "code",
   "execution_count": 23,
   "metadata": {},
   "outputs": [],
   "source": [
    "doc_list = []\n",
    "doc_list.append('utt\\tlabel\\trecord\\t'+str(value)+'\\n')\n",
    "current_utt = ''\n",
    "for i in range(len(utts)):\n",
    "    utt = utts[i]\n",
    "    doc_utt = utt[:29]\n",
    "    label = labels[i]\n",
    "    record = records[i]\n",
    "    if doc_utt != current_utt:\n",
    "        current_utt = doc_utt\n",
    "        doc_list.append('<d>\\n')\n",
    "        doc_list.append(utt+'\\t'+label+'\\t'+record+'\\n')\n",
    "    else:\n",
    "        doc_list.append(utt+'\\t'+label+'\\t'+record+'\\n')\n"
   ]
  },
  {
   "cell_type": "code",
   "execution_count": 24,
   "metadata": {},
   "outputs": [],
   "source": [
    "with open(path_output, 'w') as f_output:\n",
    "    f_output.writelines(doc_list)"
   ]
  },
  {
   "cell_type": "code",
   "execution_count": null,
   "metadata": {},
   "outputs": [],
   "source": []
  }
 ],
 "metadata": {
  "kernelspec": {
   "display_name": "context_ASR",
   "language": "python",
   "name": "python3"
  },
  "language_info": {
   "codemirror_mode": {
    "name": "ipython",
    "version": 3
   },
   "file_extension": ".py",
   "mimetype": "text/x-python",
   "name": "python",
   "nbconvert_exporter": "python",
   "pygments_lexer": "ipython3",
   "version": "3.8.16"
  },
  "orig_nbformat": 4
 },
 "nbformat": 4,
 "nbformat_minor": 2
}
