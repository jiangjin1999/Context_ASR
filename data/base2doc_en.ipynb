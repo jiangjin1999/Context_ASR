{
 "cells": [
  {
   "cell_type": "code",
   "execution_count": 1,
   "metadata": {},
   "outputs": [],
   "source": [
    "path_input = '/home/jiangjin/context/data/en/LIBRISPEECH_CLEAN/LIBRISPEECH_CLEAN_test.txt'\n",
    "path_output = '/home/jiangjin/context/data/en/LIBRISPEECH_CLEAN/LIBRISPEECH_CLEAN_test_doc_new.txt'"
   ]
  },
  {
   "cell_type": "code",
   "execution_count": 2,
   "metadata": {},
   "outputs": [
    {
     "name": "stdout",
     "output_type": "stream",
     "text": [
      "utt\tlabel\trecord\t0.04553408399269629\n",
      "\n"
     ]
    }
   ],
   "source": [
    "with open(path_input, 'r') as f:\n",
    "    lines = f.readlines()\n",
    "    print(lines[0])\n",
    "    data = lines[1:]\n",
    "    utts = [item.strip().split('\\t')[0] for item in data]\n",
    "    labels = [item.strip().split('\\t')[1] for item in data]\n",
    "    records = [item.strip().split('\\t')[2] for item in data]"
   ]
  },
  {
   "cell_type": "code",
   "execution_count": 5,
   "metadata": {},
   "outputs": [
    {
     "data": {
      "text/plain": [
       "0.04553408399269629"
      ]
     },
     "execution_count": 5,
     "metadata": {},
     "output_type": "execute_result"
    }
   ],
   "source": [
    "import evaluate\n",
    "metric = evaluate.load('wer')\n",
    "value = metric.compute(references=labels, predictions=records)\n",
    "value"
   ]
  },
  {
   "cell_type": "code",
   "execution_count": 23,
   "metadata": {},
   "outputs": [],
   "source": [
    "doc_list = []\n",
    "doc_list.append('utt\\tlabel\\trecord\\t'+str(value)+'\\n')\n",
    "current_utt = ''\n",
    "for i in range(len(utts)):\n",
    "    utt = utts[i]\n",
    "    doc_utt = utt[:29]\n",
    "    label = labels[i]\n",
    "    record = records[i]\n",
    "    if doc_utt != current_utt:\n",
    "        current_utt = doc_utt\n",
    "        doc_list.append('<d>\\n')\n",
    "        doc_list.append(utt+'\\t'+label+'\\t'+record+'\\n')\n",
    "    else:\n",
    "        doc_list.append(utt+'\\t'+label+'\\t'+record+'\\n')\n"
   ]
  },
  {
   "cell_type": "code",
   "execution_count": 24,
   "metadata": {},
   "outputs": [],
   "source": [
    "with open(path_output, 'w') as f_output:\n",
    "    f_output.writelines(doc_list)"
   ]
  },
  {
   "cell_type": "code",
   "execution_count": null,
   "metadata": {},
   "outputs": [],
   "source": []
  }
 ],
 "metadata": {
  "kernelspec": {
   "display_name": "context_ASR",
   "language": "python",
   "name": "python3"
  },
  "language_info": {
   "codemirror_mode": {
    "name": "ipython",
    "version": 3
   },
   "file_extension": ".py",
   "mimetype": "text/x-python",
   "name": "python",
   "nbconvert_exporter": "python",
   "pygments_lexer": "ipython3",
   "version": "3.8.16"
  },
  "orig_nbformat": 4
 },
 "nbformat": 4,
 "nbformat_minor": 2
}
