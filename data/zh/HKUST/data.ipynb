{
 "cells": [
  {
   "cell_type": "markdown",
   "metadata": {},
   "source": [
    "./exp \n",
    "train_nodev: 60612\n",
    "train_dev: 3518\n",
    "test: 5413"
   ]
  },
  {
   "cell_type": "markdown",
   "metadata": {},
   "source": [
    "./data: \n",
    "train: 197391\n",
    "train_nodev: 193390\n",
    "train_dev:4001\n",
    "dev: 5413\n",
    "\n"
   ]
  },
  {
   "cell_type": "markdown",
   "metadata": {},
   "source": []
  },
  {
   "cell_type": "markdown",
   "metadata": {},
   "source": []
  }
 ],
 "metadata": {
  "language_info": {
   "name": "python"
  },
  "orig_nbformat": 4
 },
 "nbformat": 4,
 "nbformat_minor": 2
}
