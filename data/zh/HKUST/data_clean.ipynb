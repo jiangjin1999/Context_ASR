{
 "cells": [
  {
   "cell_type": "code",
   "execution_count": 73,
   "metadata": {},
   "outputs": [],
   "source": [
    "path = '/home/jiangjin/context/data/zh/HKUST/old/HKUST_dev_doc.txt'"
   ]
  },
  {
   "cell_type": "code",
   "execution_count": 74,
   "metadata": {},
   "outputs": [],
   "source": [
    "with open(path, 'r') as f_data:\n",
    "    data = f_data.readlines()"
   ]
  },
  {
   "cell_type": "code",
   "execution_count": 75,
   "metadata": {},
   "outputs": [
    {
     "data": {
      "text/plain": [
       "['utt\\tlabel\\trecord\\n',\n",
       " '<d>\\n',\n",
       " '20040527_210939_A901153_B901154-A-000281-000641\\t喂 你好 能听到。\\t喂您好可以申请到。\\n',\n",
       " '20040527_210939_A901153_B901154-A-000974-001262\\t呃 可以呀。\\t可以啊。\\n',\n",
       " '20040527_210939_A901153_B901154-A-001537-002423\\t呃 像泰山了 华山 五台山 九华山 很多啦。\\t像泰山华山五台山九华山很多呢。\\n',\n",
       " '20040527_210939_A901153_B901154-A-004220-004707\\t到泰山当然去看日出啦 泰山的日出是非常好的。\\t到泰山当然去看日出了泰山的日出是非常好的。\\n',\n",
       " '20040527_210939_A901153_B901154-A-004707-005325\\t比如说在 一大清早去的话 经常会下雨。\\t比如说在一大清早去的话经常会下雨。\\n',\n",
       " '20040527_210939_A901153_B901154-A-005325-006252\\t朦朦的小雨 到山顶之后 你再看日出出来的时候 太阳是红色的 唔 非常美。\\t萌萌的小雨到山顶之后在看日出出来的时候太阳是红色的非常美。\\n',\n",
       " '20040527_210939_A901153_B901154-A-006766-007223\\t就是在雨中看泰山嘛 感觉特别好。\\t就是在雨中看泰山吧感觉特别好。\\n',\n",
       " '20040527_210939_A901153_B901154-A-007890-008092\\t嗯 好啊。\\t好啊。\\n']"
      ]
     },
     "execution_count": 75,
     "metadata": {},
     "output_type": "execute_result"
    }
   ],
   "source": [
    "data[0:10]"
   ]
  },
  {
   "cell_type": "code",
   "execution_count": 76,
   "metadata": {},
   "outputs": [],
   "source": [
    "special_works = ['啊', '呀', '呃', '嗯', '吧', ' ','噢', '唔']"
   ]
  },
  {
   "cell_type": "code",
   "execution_count": 77,
   "metadata": {},
   "outputs": [
    {
     "data": {
      "text/plain": [
       "3329"
      ]
     },
     "execution_count": 77,
     "metadata": {},
     "output_type": "execute_result"
    }
   ],
   "source": [
    "len(data)"
   ]
  },
  {
   "cell_type": "code",
   "execution_count": 84,
   "metadata": {},
   "outputs": [
    {
     "name": "stdout",
     "output_type": "stream",
     "text": [
      "some words are missed\n",
      "some words are missed\n",
      "some words are missed\n",
      "some words are missed\n",
      "some words are missed\n",
      "some words are missed\n",
      "some words are missed\n",
      "some words are missed\n",
      "some words are missed\n",
      "some words are missed\n",
      "some words are missed\n",
      "some words are missed\n",
      "some words are missed\n",
      "some words are missed\n",
      "some words are missed\n",
      "some words are missed\n",
      "some words are missed\n",
      "some words are missed\n",
      "3311\n"
     ]
    }
   ],
   "source": [
    "new_data = []\n",
    "\n",
    "def data_clean(data):\n",
    "    for x in special_works:\n",
    "        data = data.replace(x, '')\n",
    "    if len(data) > 3 and data !='。':\n",
    "        return data\n",
    "    else:\n",
    "        print('some words are missed')\n",
    "        return None\n",
    "    \n",
    "for item in data:\n",
    "    flag = 0\n",
    "    if '\\t' in item:\n",
    "        label = item.split('\\t')[1]\n",
    "    for w in special_works:\n",
    "        if w in label:\n",
    "            flag  = 1\n",
    "            \n",
    "    if flag == 0 or item=='<d>\\n' or item == 'utt\\tlabel\\trecord\\n':\n",
    "        new_data.append(item)\n",
    "    else:\n",
    "        # print('some sentences are precessed')\n",
    "        if data_clean(item) is None or len(item.split('\\t')[1]) < 4:\n",
    "            print('some words are missed')\n",
    "        else:\n",
    "            new_data.append(data_clean(item))\n",
    "            \n",
    "print(len(new_data))"
   ]
  },
  {
   "cell_type": "code",
   "execution_count": null,
   "metadata": {},
   "outputs": [],
   "source": [
    "new_path = '/home/jiangjin/context/data/zh/HKUST/HKUST_dev_doc.txt'"
   ]
  },
  {
   "cell_type": "code",
   "execution_count": null,
   "metadata": {},
   "outputs": [],
   "source": [
    "with open(new_path, 'w') as f_data:\n",
    "    f_data.writelines(new_data)"
   ]
  },
  {
   "cell_type": "code",
   "execution_count": null,
   "metadata": {},
   "outputs": [],
   "source": []
  }
 ],
 "metadata": {
  "kernelspec": {
   "display_name": "context_ASR",
   "language": "python",
   "name": "python3"
  },
  "language_info": {
   "codemirror_mode": {
    "name": "ipython",
    "version": 3
   },
   "file_extension": ".py",
   "mimetype": "text/x-python",
   "name": "python",
   "nbconvert_exporter": "python",
   "pygments_lexer": "ipython3",
   "version": "3.8.16"
  },
  "orig_nbformat": 4
 },
 "nbformat": 4,
 "nbformat_minor": 2
}
