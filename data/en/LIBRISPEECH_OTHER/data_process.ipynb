{
 "cells": [
  {
   "cell_type": "code",
   "execution_count": 65,
   "metadata": {},
   "outputs": [],
   "source": [
    "mode = ['train', 'test', 'dev']\n",
    "index_1 = 2\n",
    "index_mode = ['clean','other']\n",
    "index_2 = 1"
   ]
  },
  {
   "cell_type": "code",
   "execution_count": 66,
   "metadata": {},
   "outputs": [],
   "source": [
    "pwd = '/home/users/jiangjin/jiangjin_bupt/ASR_CORRECTION/Context_Correction/context_seq2seq/data/en/LIBRISPEECH_OTHER/'\n",
    "label_path = pwd + 'raw/' + mode[index_1] + '-' +index_mode[index_2] + '.tsv'\n",
    "data_path = pwd + 'raw/' + 'LIBRISPEECH_' +  index_mode[index_2] .upper() + '_' + mode[index_1]+ '.txt'\n",
    "doc_output_path = pwd +  'LIBRISPEECH_' +  index_mode[index_2] .upper() + '_' + mode[index_1]+ '_doc.txt'\n",
    "output_path = pwd +  'LIBRISPEECH_' +  index_mode[index_2] .upper() + '_' + mode[index_1]+ '.txt'"
   ]
  },
  {
   "cell_type": "code",
   "execution_count": 67,
   "metadata": {},
   "outputs": [
    {
     "data": {
      "text/plain": [
       "'/home/users/jiangjin/jiangjin_bupt/ASR_CORRECTION/Context_Correction/context_seq2seq/data/en/LIBRISPEECH_OTHER/raw/dev-other.tsv'"
      ]
     },
     "execution_count": 67,
     "metadata": {},
     "output_type": "execute_result"
    }
   ],
   "source": [
    "label_path"
   ]
  },
  {
   "cell_type": "code",
   "execution_count": 68,
   "metadata": {},
   "outputs": [],
   "source": [
    "with open(label_path, 'r') as f_label:\n",
    "    labels = f_label.readlines()"
   ]
  },
  {
   "cell_type": "code",
   "execution_count": 69,
   "metadata": {},
   "outputs": [
    {
     "data": {
      "text/plain": [
       "'id\\taudio\\tn_frames\\ttgt_text\\tspeaker\\n'"
      ]
     },
     "execution_count": 69,
     "metadata": {},
     "output_type": "execute_result"
    }
   ],
   "source": [
    "labels[0]"
   ]
  },
  {
   "cell_type": "code",
   "execution_count": 70,
   "metadata": {},
   "outputs": [
    {
     "data": {
      "text/plain": [
       "'as i approached the city i heard bells ringing and a little later i found the streets astir with throngs of well dressed people in family groups wending their way hither and thither'"
      ]
     },
     "execution_count": 70,
     "metadata": {},
     "output_type": "execute_result"
    }
   ],
   "source": [
    "labels[1].split('\\t')[3]"
   ]
  },
  {
   "cell_type": "code",
   "execution_count": 71,
   "metadata": {},
   "outputs": [],
   "source": [
    "labels = labels[1:]"
   ]
  },
  {
   "cell_type": "code",
   "execution_count": null,
   "metadata": {},
   "outputs": [],
   "source": []
  },
  {
   "cell_type": "code",
   "execution_count": 72,
   "metadata": {},
   "outputs": [],
   "source": [
    "label_utt = [item.split('\\t')[0] for item in labels]\n",
    "label_text = [item.split('\\t')[3]+'.' for item in labels]"
   ]
  },
  {
   "cell_type": "code",
   "execution_count": 73,
   "metadata": {},
   "outputs": [
    {
     "data": {
      "text/plain": [
       "'/home/users/jiangjin/jiangjin_bupt/ASR_CORRECTION/Context_Correction/context_seq2seq/data/en/LIBRISPEECH_OTHER/raw/LIBRISPEECH_OTHER_dev.txt'"
      ]
     },
     "execution_count": 73,
     "metadata": {},
     "output_type": "execute_result"
    }
   ],
   "source": [
    "data_path"
   ]
  },
  {
   "cell_type": "code",
   "execution_count": 74,
   "metadata": {},
   "outputs": [],
   "source": [
    "with open(data_path, 'r') as f_data:\n",
    "    datas = f_data.readlines()"
   ]
  },
  {
   "cell_type": "code",
   "execution_count": 75,
   "metadata": {},
   "outputs": [
    {
     "data": {
      "text/plain": [
       "2864"
      ]
     },
     "execution_count": 75,
     "metadata": {},
     "output_type": "execute_result"
    }
   ],
   "source": [
    "len(datas)"
   ]
  },
  {
   "cell_type": "code",
   "execution_count": 76,
   "metadata": {},
   "outputs": [
    {
     "data": {
      "text/plain": [
       "'his abode which he had fixed at a bowery or country seat at a short distance from the city just at what is now called dutch street soon abounded with proofs of his ingenuity patent smokejacks that required a horse to work them dutch ovens that roasted meat without fire.\\n'"
      ]
     },
     "execution_count": 76,
     "metadata": {},
     "output_type": "execute_result"
    }
   ],
   "source": [
    "datas[0].split('|')[2]"
   ]
  },
  {
   "cell_type": "code",
   "execution_count": 77,
   "metadata": {},
   "outputs": [],
   "source": [
    "data_utt = [item.split('|')[0] for item in datas]\n",
    "data_label = [item.split('|')[1] for item in datas]\n",
    "data_text = [item.split('|')[2].strip() for item in datas]"
   ]
  },
  {
   "cell_type": "code",
   "execution_count": 78,
   "metadata": {},
   "outputs": [],
   "source": [
    "assert len(label_utt) ==len(data_utt)"
   ]
  },
  {
   "cell_type": "code",
   "execution_count": 79,
   "metadata": {},
   "outputs": [
    {
     "data": {
      "text/plain": [
       "(2864, 2864)"
      ]
     },
     "execution_count": 79,
     "metadata": {},
     "output_type": "execute_result"
    }
   ],
   "source": [
    "len(label_utt),len(data_utt)"
   ]
  },
  {
   "cell_type": "code",
   "execution_count": 80,
   "metadata": {},
   "outputs": [
    {
     "data": {
      "text/plain": [
       "'4323-18416-14'"
      ]
     },
     "execution_count": 80,
     "metadata": {},
     "output_type": "execute_result"
    }
   ],
   "source": [
    "index = label_utt.index(data_utt[-1])\n",
    "data_utt[index]"
   ]
  },
  {
   "cell_type": "code",
   "execution_count": 81,
   "metadata": {},
   "outputs": [
    {
     "name": "stdout",
     "output_type": "stream",
     "text": [
      "{'2506-13150-2': 2, '1686-142278-41': 2}\n"
     ]
    }
   ],
   "source": [
    "from collections import Counter   #引入Counter\n",
    "# a = [29,36,57,12,79,43,23,56,28,11,14,15,16,37,24,35,17,24,33,15,39,46,52,13]\n",
    "b = dict(Counter(data_utt))\n",
    "# print ([key for key,value in b.items()if value > 1])  #只展示重复元素\n",
    "print ({key:value for key,value in b.items()if value > 1})  #展现重复元素和重复次数\n",
    "repeated_utts = [key for key,value in b.items()if value > 2]"
   ]
  },
  {
   "cell_type": "code",
   "execution_count": 82,
   "metadata": {},
   "outputs": [
    {
     "data": {
      "text/plain": [
       "[]"
      ]
     },
     "execution_count": 82,
     "metadata": {},
     "output_type": "execute_result"
    }
   ],
   "source": [
    "def find_indices(list_to_check, item_to_find):\n",
    "    indices = []\n",
    "    for idx, value in enumerate(list_to_check):\n",
    "        if value == item_to_find:\n",
    "            indices.append(idx)\n",
    "    return indices\n",
    "find_indices(data_utt, '839-130898-1')\n"
   ]
  },
  {
   "cell_type": "code",
   "execution_count": 83,
   "metadata": {},
   "outputs": [],
   "source": [
    "# # 找出在label 中有 而 data中 没有的 utt\n",
    "lack_utts = [item for item in label_utt if item not in data_utt]\n",
    "# lack_utts = ['30-4447-26',\n",
    "#  '3118-5912-0',\n",
    "#  '3927-6556-63',\n",
    "#  '4133-6541-27',\n",
    "#  '4133-6541-48',\n",
    "#  '4133-6541-93',\n",
    "#  '472-130755-24',\n",
    "#  '543-133211-3',\n",
    "#  '543-133211-33',\n",
    "#  '543-133212-13',\n",
    "#  '543-133212-16',\n",
    "#  '543-133212-31',\n",
    "#  '559-289453-50',\n",
    "#  '6574-70756-8',\n",
    "#  '6574-70756-14',\n",
    "#  '6574-70756-31',\n",
    "#  '6574-70756-32',\n",
    "#  '6574-70756-39',\n",
    "#  '7247-77778-10',\n",
    "#  '7297-92812-22',\n",
    "#  '7297-92812-35',\n",
    "#  '7938-110128-10',\n",
    "#  '8119-115687-2',\n",
    "#  '8119-115687-3',\n",
    "#  '8119-115687-31',\n",
    "#  '8119-115687-37',\n",
    "#  '8119-115687-38',\n",
    "#  '8119-115687-39',\n",
    "#  '8119-115687-52',\n",
    "#  '8742-245707-54',\n",
    "#  '948-132705-4',\n",
    "#  '948-132705-26',\n",
    "#  '948-132705-32',\n",
    "#  '954-130627-5',\n",
    "#  '954-130627-39',\n",
    "#  '1737-146161-9',\n",
    "#  '839-130898-97']"
   ]
  },
  {
   "cell_type": "code",
   "execution_count": 84,
   "metadata": {},
   "outputs": [
    {
     "data": {
      "text/plain": [
       "['2506-13150-3', '4515-11057-53']"
      ]
     },
     "execution_count": 84,
     "metadata": {},
     "output_type": "execute_result"
    }
   ],
   "source": [
    "lack_utts"
   ]
  },
  {
   "cell_type": "code",
   "execution_count": 85,
   "metadata": {},
   "outputs": [],
   "source": [
    "for lack_utt in lack_utts:\n",
    "    label_index = label_utt.index(lack_utt)\n",
    "    lack_label = label_text[label_index]\n",
    "    lack_label_index_in_data = find_indices(data_label, lack_label)\n",
    "    # print(lack_utt)\n",
    "    assert len(lack_label_index_in_data) > 1\n",
    "    data_index_1 = lack_label_index_in_data[0]\n",
    "    data_index_2 = lack_label_index_in_data[1]\n",
    "    if len(lack_label_index_in_data) > 2:\n",
    "        data_index_3 = lack_label_index_in_data[2]\n",
    "        \n",
    "    # print(len(lack_label_index_in_data))\n",
    "    if data_utt[data_index_1] == data_utt[data_index_2]:\n",
    "        data_utt[data_index_1] = lack_utt\n",
    "        # print('++++++++')\n",
    "    if len(lack_label_index_in_data) > 2:\n",
    "        if data_utt[data_index_3] == data_utt[data_index_2]:\n",
    "            data_utt[data_index_2] = lack_utt\n",
    "    \n",
    "    \n",
    "    # for "
   ]
  },
  {
   "cell_type": "code",
   "execution_count": 86,
   "metadata": {},
   "outputs": [],
   "source": [
    "# data_utt[data_index_1], lack_utt, data_utt[data_index_2], data_utt[data_index_3]"
   ]
  },
  {
   "cell_type": "code",
   "execution_count": 87,
   "metadata": {},
   "outputs": [
    {
     "data": {
      "text/plain": [
       "[]"
      ]
     },
     "execution_count": 87,
     "metadata": {},
     "output_type": "execute_result"
    }
   ],
   "source": [
    "not_solved = [utt for utt in lack_utts if utt  not in data_utt]\n",
    "not_solved"
   ]
  },
  {
   "cell_type": "code",
   "execution_count": 88,
   "metadata": {},
   "outputs": [],
   "source": [
    "# # data_utt, data_text, data_label\n",
    "# new_data_utt, new_data_text, new_data_label = [], [], []\n",
    "# # label_utt, label_text\n",
    "# #替换 部分缺失的utt：\n",
    "# for repeated_utt in repeated_utts:\n",
    "#     # 1. 找到 data 中所有重复的 utt的那一行\n",
    "#     repeated_indexs = find_indices(data_utt, repeated_utt)\n",
    "#     # 2. 找到 label  \n",
    "    \n",
    "    "
   ]
  },
  {
   "cell_type": "code",
   "execution_count": 89,
   "metadata": {},
   "outputs": [],
   "source": [
    "final_utt = []\n",
    "final_label = []\n",
    "final_record = []\n",
    "for item,label in zip(label_utt, label_text):\n",
    "    index = data_utt.index(item)\n",
    "    d_label = data_label[index]\n",
    "    d_text = data_text[index]\n",
    "    # assert label == d_label, print(str(item) +'\\n'+str(label)+'\\n' + str(d_label)+'\\n' + str(d_text))\n",
    "    final_utt.append(item)\n",
    "    final_label.append(label)\n",
    "    final_record.append(d_text)"
   ]
  },
  {
   "cell_type": "code",
   "execution_count": null,
   "metadata": {},
   "outputs": [],
   "source": []
  },
  {
   "cell_type": "code",
   "execution_count": 90,
   "metadata": {},
   "outputs": [
    {
     "name": "stderr",
     "output_type": "stream",
     "text": [
      "Using the latest cached version of the module from /home/users/jiangjin/.cache/huggingface/modules/datasets_modules/metrics/wer/d435ee8ec9ba888aa5e23b481ea6ce4e88ca1384d5bda6f0528a6dea387e368d (last modified on Tue Dec  7 16:32:47 2021) since it couldn't be found locally at wer, or remotely on the Hugging Face Hub.\n"
     ]
    }
   ],
   "source": [
    "from datasets import load_metric\n",
    "metric = load_metric('wer')\n",
    "value = metric.compute(predictions=final_record, references=final_label)"
   ]
  },
  {
   "cell_type": "code",
   "execution_count": 91,
   "metadata": {},
   "outputs": [
    {
     "data": {
      "text/plain": [
       "'116-288045'"
      ]
     },
     "execution_count": 91,
     "metadata": {},
     "output_type": "execute_result"
    }
   ],
   "source": [
    "final_utt[0].split('-')[0]+\"-\"+final_utt[0].split('-')[1]"
   ]
  },
  {
   "cell_type": "code",
   "execution_count": 92,
   "metadata": {},
   "outputs": [],
   "source": [
    "doc_data = []\n",
    "doc_data.append('utt\\tlabel\\trecord\\t'+str(value))\n",
    "flag = final_utt[0].split('-')[0]+\"-\"+final_utt[0].split('-')[1]\n",
    "doc_data.append('<d>')\n",
    "for i in range(len(final_utt)):\n",
    "    utt = final_utt[i]\n",
    "    label = final_label[i]\n",
    "    record = final_record[i]\n",
    "    if flag in utt:\n",
    "        doc_data.append(utt+'\\t'+label+'\\t'+record)\n",
    "    else:\n",
    "        doc_data.append('<d>')\n",
    "        flag = utt.split('-')[0]+\"-\"+utt.split('-')[1]\n",
    "        doc_data.append(utt+'\\t'+label+'\\t'+record)"
   ]
  },
  {
   "cell_type": "code",
   "execution_count": 93,
   "metadata": {},
   "outputs": [
    {
     "data": {
      "text/plain": [
       "'/home/users/jiangjin/jiangjin_bupt/ASR_CORRECTION/Context_Correction/context_seq2seq/data/en/LIBRISPEECH_OTHER/LIBRISPEECH_OTHER_dev_doc.txt'"
      ]
     },
     "execution_count": 93,
     "metadata": {},
     "output_type": "execute_result"
    }
   ],
   "source": [
    "doc_output_path"
   ]
  },
  {
   "cell_type": "code",
   "execution_count": 94,
   "metadata": {},
   "outputs": [],
   "source": [
    "with open(doc_output_path, 'w') as f_output:\n",
    "    for item in doc_data:\n",
    "        f_output.writelines(item)\n",
    "        f_output.writelines('\\n')"
   ]
  },
  {
   "cell_type": "code",
   "execution_count": 95,
   "metadata": {},
   "outputs": [
    {
     "data": {
      "text/plain": [
       "'/home/users/jiangjin/jiangjin_bupt/ASR_CORRECTION/Context_Correction/context_seq2seq/data/en/LIBRISPEECH_OTHER/LIBRISPEECH_OTHER_dev.txt'"
      ]
     },
     "execution_count": 95,
     "metadata": {},
     "output_type": "execute_result"
    }
   ],
   "source": [
    "output_path"
   ]
  },
  {
   "cell_type": "code",
   "execution_count": 96,
   "metadata": {},
   "outputs": [],
   "source": [
    "examples = []\n",
    "examples.append('utt\\tlabel\\trecord\\t'+str(value))\n",
    "for i in range(len(final_utt)):\n",
    "    utt = final_utt[i]\n",
    "    label = final_label[i]\n",
    "    record = final_record[i]\n",
    "    examples.append(utt+'\\t'+label+'\\t'+record)\n",
    "\n",
    "\n",
    "with open(output_path, 'w') as f_output:\n",
    "    for item in examples:\n",
    "        f_output.writelines(item)\n",
    "        f_output.writelines('\\n')"
   ]
  },
  {
   "cell_type": "code",
   "execution_count": null,
   "metadata": {},
   "outputs": [],
   "source": []
  }
 ],
 "metadata": {
  "kernelspec": {
   "display_name": "Python 3",
   "language": "python",
   "name": "python3"
  },
  "language_info": {
   "codemirror_mode": {
    "name": "ipython",
    "version": 3
   },
   "file_extension": ".py",
   "mimetype": "text/x-python",
   "name": "python",
   "nbconvert_exporter": "python",
   "pygments_lexer": "ipython3",
   "version": "3.8.8"
  },
  "orig_nbformat": 4,
  "vscode": {
   "interpreter": {
    "hash": "5b3228b2b04fe574edc1cfad377da45b01c8bfafeb5d7448f83b83b0b5984135"
   }
  }
 },
 "nbformat": 4,
 "nbformat_minor": 2
}
