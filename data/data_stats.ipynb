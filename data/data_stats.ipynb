{
 "cells": [
  {
   "cell_type": "code",
   "execution_count": 238,
   "metadata": {},
   "outputs": [],
   "source": [
    "data_path = '/home/users/jiangjin/jiangjin_bupt/ASR_CORRECTION/Context_Correction/context_seq2seq/data/en/LIBRISPEECH_OTHER/LIBRISPEECH_OTHER_train.txt'\n",
    "doc_data_path = data_path[:-4]+'_doc.txt'"
   ]
  },
  {
   "cell_type": "code",
   "execution_count": 239,
   "metadata": {},
   "outputs": [
    {
     "data": {
      "text/plain": [
       "['utt\\tlabel\\trecord\\t0.10554562047500143\\n',\n",
       " '1092-134562-0\\tchapter one it is with a kind of fear that i begin to write the history of my life i have as it were a superstitious hesitation in lifting the veil that clings about my childhood like a golden mist.\\tchapter one it is with a kind of fear that i begin to write the history of my life i have as it were a superstitious hesitation in lifting the veil by the eyes of my childhood like a golden mist.\\n']"
      ]
     },
     "execution_count": 239,
     "metadata": {},
     "output_type": "execute_result"
    }
   ],
   "source": [
    "with open(data_path, 'r') as f_data:\n",
    "    data = f_data.readlines()\n",
    "data[0:2]"
   ]
  },
  {
   "cell_type": "code",
   "execution_count": 240,
   "metadata": {},
   "outputs": [
    {
     "data": {
      "text/plain": [
       "['utt\\tlabel\\trecord\\t0.10554562047500143\\n',\n",
       " '<d>\\n',\n",
       " '1092-134562-0\\tchapter one it is with a kind of fear that i begin to write the history of my life i have as it were a superstitious hesitation in lifting the veil that clings about my childhood like a golden mist.\\tchapter one it is with a kind of fear that i begin to write the history of my life i have as it were a superstitious hesitation in lifting the veil by the eyes of my childhood like a golden mist.\\n',\n",
       " \"1092-134562-1\\tthe task of writing an autobiography is a difficult one when i try to classify my earliest impressions i find that fact and fancy look alike across the years that link the past with the present the woman paints the child's experiences in her own fantasy.\\tthe task of writing an autobiography is a difficult one when i try to clear out the earliest impressions i find that fact and fancy look alike across the years that link the past with the present the woman paints the child's experiences in her own fantasy.\\n\"]"
      ]
     },
     "execution_count": 240,
     "metadata": {},
     "output_type": "execute_result"
    }
   ],
   "source": [
    "with open(doc_data_path, 'r') as f_doc:\n",
    "    doc = f_doc.readlines()\n",
    "doc[0:4]"
   ]
  },
  {
   "cell_type": "code",
   "execution_count": 241,
   "metadata": {},
   "outputs": [],
   "source": [
    "doc = doc[1:]"
   ]
  },
  {
   "cell_type": "code",
   "execution_count": 242,
   "metadata": {},
   "outputs": [],
   "source": [
    "# 句子个数结合平均句子长度\n",
    "# 句子长度统计\n",
    "data_labels = [item.strip().split('\\t')[1] for item in data]\n",
    "data_records = [item.strip().split('\\t')[2] for item in data]"
   ]
  },
  {
   "cell_type": "code",
   "execution_count": 243,
   "metadata": {},
   "outputs": [
    {
     "data": {
      "text/plain": [
       "32922"
      ]
     },
     "execution_count": 243,
     "metadata": {},
     "output_type": "execute_result"
    }
   ],
   "source": [
    "len(data_labels)"
   ]
  },
  {
   "cell_type": "code",
   "execution_count": 244,
   "metadata": {},
   "outputs": [],
   "source": [
    "labels_length = [len(item.split(' ')) for item in data_labels]\n",
    "records_length = [len(item.split(' ')) for item in data_labels]"
   ]
  },
  {
   "cell_type": "code",
   "execution_count": 245,
   "metadata": {},
   "outputs": [
    {
     "name": "stdout",
     "output_type": "stream",
     "text": [
      "                  0\n",
      "count  32922.000000\n",
      "mean      32.917289\n",
      "std       12.155108\n",
      "min        1.000000\n",
      "25%       26.000000\n",
      "50%       35.000000\n",
      "75%       42.000000\n",
      "max       87.000000\n"
     ]
    }
   ],
   "source": [
    "import pandas as pd\n",
    "labels_length_pd = pd.DataFrame(labels_length)\n",
    "records_length_pd = pd.DataFrame(records_length)\n",
    "# print(labels_length_pd.head())\n",
    "labels_length_pd.describe()\n",
    "print(labels_length_pd.describe())\n",
    "# records_length_pd.describe()\n",
    "# print(records_length_pd.describe())"
   ]
  },
  {
   "cell_type": "code",
   "execution_count": 246,
   "metadata": {},
   "outputs": [],
   "source": [
    "doc_labels = [item.strip().split('\\t')[1] for item in data if '\\t' in item] \n",
    "doc_records = [item.strip().split('\\t')[2] for item in data if '\\t' in item]\n"
   ]
  },
  {
   "cell_type": "code",
   "execution_count": 247,
   "metadata": {},
   "outputs": [],
   "source": [
    "def deal(list_ori,p):   \n",
    "    list_new=[]\t\t\t\t#处理后的列表，是一个二维列表\n",
    "    list_short=[]\t\t\t#用于存放每一段列表\n",
    "    for i in list_ori:\n",
    "        if i!=p:\t\t\n",
    "            list_short.append(i)\n",
    "        else:\n",
    "            list_new.append(list_short)\n",
    "            list_short=[]\n",
    "    list_new.append(list_short)   #最后一段遇不到切割标识，需要手动放入\n",
    "    return list_new\n",
    "list_ori=doc #[53, 53, -1, 13, 30, -2, 2, 1, -2, -1, -2, 2, 14, 7, -1, -2, 11, 14, -1, 6, 55]       \n",
    "doc_list=deal(list_ori,'<d>\\n') #按照-2进行切割"
   ]
  },
  {
   "cell_type": "code",
   "execution_count": 248,
   "metadata": {},
   "outputs": [],
   "source": [
    "if doc_list[0]==[]:\n",
    "    doc_list = doc_list[1:]\n"
   ]
  },
  {
   "cell_type": "code",
   "execution_count": 249,
   "metadata": {},
   "outputs": [
    {
     "data": {
      "text/plain": [
       "622"
      ]
     },
     "execution_count": 249,
     "metadata": {},
     "output_type": "execute_result"
    }
   ],
   "source": [
    "len(doc_list)"
   ]
  },
  {
   "cell_type": "code",
   "execution_count": 250,
   "metadata": {},
   "outputs": [
    {
     "data": {
      "text/plain": [
       "52.92926045016077"
      ]
     },
     "execution_count": 250,
     "metadata": {},
     "output_type": "execute_result"
    }
   ],
   "source": [
    "len(data_labels)/len(doc_list)"
   ]
  },
  {
   "cell_type": "code",
   "execution_count": null,
   "metadata": {},
   "outputs": [],
   "source": []
  },
  {
   "attachments": {},
   "cell_type": "markdown",
   "metadata": {},
   "source": [
    "# 计算token max length"
   ]
  },
  {
   "cell_type": "code",
   "execution_count": 12,
   "metadata": {},
   "outputs": [],
   "source": [
    "path = '/home/jiangjin/context/data/en/LIBRISPEECH_OTHER/LIBRISPEECH_OTHER_train.txt'\n",
    "with open(path, 'r') as f_data:\n",
    "    data = f_data.readlines()\n",
    "    data = data[1:]"
   ]
  },
  {
   "cell_type": "code",
   "execution_count": 13,
   "metadata": {},
   "outputs": [
    {
     "data": {
      "text/plain": [
       "'1092-134562-0\\tchapter one it is with a kind of fear that i begin to write the history of my life i have as it were a superstitious hesitation in lifting the veil that clings about my childhood like a golden mist.\\tchapter one it is with a kind of fear that i begin to write the history of my life i have as it were a superstitious hesitation in lifting the veil by the eyes of my childhood like a golden mist.\\n'"
      ]
     },
     "execution_count": 13,
     "metadata": {},
     "output_type": "execute_result"
    }
   ],
   "source": [
    "data[0]"
   ]
  },
  {
   "cell_type": "code",
   "execution_count": 14,
   "metadata": {},
   "outputs": [],
   "source": [
    "data[1]\n",
    "texts = [item.split('\\t')[1] for item in data]"
   ]
  },
  {
   "cell_type": "code",
   "execution_count": 15,
   "metadata": {},
   "outputs": [
    {
     "data": {
      "text/plain": [
       "\"the task of writing an autobiography is a difficult one when i try to classify my earliest impressions i find that fact and fancy look alike across the years that link the past with the present the woman paints the child's experiences in her own fantasy.\""
      ]
     },
     "execution_count": 15,
     "metadata": {},
     "output_type": "execute_result"
    }
   ],
   "source": [
    "texts[1]"
   ]
  },
  {
   "cell_type": "code",
   "execution_count": 16,
   "metadata": {},
   "outputs": [],
   "source": [
    "from transformers import BartTokenizer\n",
    "path = '/home/jiangjin/context/pretrained-model/en/BART/'\n",
    "TOKENIZER = BartTokenizer.from_pretrained(path)\n",
    "tokenizer = TOKENIZER"
   ]
  },
  {
   "cell_type": "code",
   "execution_count": 17,
   "metadata": {},
   "outputs": [],
   "source": [
    "token_lengths = []\n",
    "for text in texts:\n",
    "    tokens = tokenizer.tokenize(text)\n",
    "    token_lengths.append(len(tokens))"
   ]
  },
  {
   "cell_type": "code",
   "execution_count": 11,
   "metadata": {},
   "outputs": [
    {
     "data": {
      "text/plain": [
       "95"
      ]
     },
     "execution_count": 11,
     "metadata": {},
     "output_type": "execute_result"
    }
   ],
   "source": [
    "max(token_lengths)"
   ]
  },
  {
   "cell_type": "code",
   "execution_count": null,
   "metadata": {},
   "outputs": [],
   "source": []
  }
 ],
 "metadata": {
  "kernelspec": {
   "display_name": "Python 3",
   "language": "python",
   "name": "python3"
  },
  "language_info": {
   "codemirror_mode": {
    "name": "ipython",
    "version": 3
   },
   "file_extension": ".py",
   "mimetype": "text/x-python",
   "name": "python",
   "nbconvert_exporter": "python",
   "pygments_lexer": "ipython3",
   "version": "3.8.16"
  },
  "orig_nbformat": 4,
  "vscode": {
   "interpreter": {
    "hash": "5b3228b2b04fe574edc1cfad377da45b01c8bfafeb5d7448f83b83b0b5984135"
   }
  }
 },
 "nbformat": 4,
 "nbformat_minor": 2
}
