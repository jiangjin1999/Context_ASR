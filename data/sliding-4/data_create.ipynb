{
 "cells": [
  {
   "cell_type": "code",
   "execution_count": 116,
   "metadata": {},
   "outputs": [],
   "source": [
    "path_data_source = '/home/users/jiangjin/jiangjin_bupt/ASR_CORRECTION/Context_Correction/context_seq2seq/data/en/'\n",
    "path_data_create = '/home/users/jiangjin/jiangjin_bupt/ASR_CORRECTION/Context_Correction/context_seq2seq/data/sliding-4/'\n",
    "dataset = ['AISHELL-1', 'HKUST', 'LIBRISPEECH_CLEAN', 'LIBRISPEECH_OTHER'][3]\n",
    "mode = ['_dev.txt', '_test.txt', '_train.txt'][2]\n",
    "path_source = path_data_source +dataset+ '/' + dataset + mode\n",
    "path_create = path_data_create +dataset+ '/' + dataset + mode"
   ]
  },
  {
   "cell_type": "code",
   "execution_count": 117,
   "metadata": {},
   "outputs": [],
   "source": [
    "with open(path_source, 'r') as f_data:\n",
    "    data = f_data.readlines()"
   ]
  },
  {
   "cell_type": "code",
   "execution_count": 118,
   "metadata": {},
   "outputs": [],
   "source": [
    "data = data[1:]"
   ]
  },
  {
   "cell_type": "code",
   "execution_count": 119,
   "metadata": {},
   "outputs": [
    {
     "data": {
      "text/plain": [
       "['1092-134562-0',\n",
       " 'chapter one it is with a kind of fear that i begin to write the history of my life i have as it were a superstitious hesitation in lifting the veil that clings about my childhood like a golden mist.',\n",
       " 'chapter one it is with a kind of fear that i begin to write the history of my life i have as it were a superstitious hesitation in lifting the veil by the eyes of my childhood like a golden mist.']"
      ]
     },
     "execution_count": 119,
     "metadata": {},
     "output_type": "execute_result"
    }
   ],
   "source": [
    "data[0].strip().split('\\t')"
   ]
  },
  {
   "cell_type": "code",
   "execution_count": 120,
   "metadata": {},
   "outputs": [],
   "source": [
    "labels = [item.strip().split('\\t')[1] for item in data]\n",
    "records = [item.strip().split('\\t')[2] for item in data]"
   ]
  },
  {
   "cell_type": "code",
   "execution_count": 121,
   "metadata": {},
   "outputs": [],
   "source": [
    "for _ in range(len(labels)%3):\n",
    "    labels.append(labels[-1])\n",
    "    records.append(records[-1])"
   ]
  },
  {
   "cell_type": "code",
   "execution_count": 122,
   "metadata": {},
   "outputs": [
    {
     "data": {
      "text/plain": [
       "1"
      ]
     },
     "execution_count": 122,
     "metadata": {},
     "output_type": "execute_result"
    }
   ],
   "source": [
    "len(records)%3"
   ]
  },
  {
   "cell_type": "code",
   "execution_count": 123,
   "metadata": {},
   "outputs": [
    {
     "ename": "IndexError",
     "evalue": "list index out of range",
     "output_type": "error",
     "traceback": [
      "\u001b[0;31m---------------------------------------------------------------------------\u001b[0m",
      "\u001b[0;31mIndexError\u001b[0m                                Traceback (most recent call last)",
      "\u001b[1;32m/home/users/jiangjin/jiangjin_bupt/ASR_CORRECTION/Context_Correction/context_seq2seq/data/sliding-4/data_create.ipynb Cell 8\u001b[0m in \u001b[0;36m<cell line: 2>\u001b[0;34m()\u001b[0m\n\u001b[1;32m      <a href='vscode-notebook-cell://ssh-remote%2Bbupt_linux/home/users/jiangjin/jiangjin_bupt/ASR_CORRECTION/Context_Correction/context_seq2seq/data/sliding-4/data_create.ipynb#X10sdnNjb2RlLXJlbW90ZQ%3D%3D?line=1'>2</a>\u001b[0m \u001b[39mfor\u001b[39;00m i \u001b[39min\u001b[39;00m \u001b[39mrange\u001b[39m(\u001b[39m0\u001b[39m, \u001b[39mlen\u001b[39m(labels), \u001b[39m4\u001b[39m):\n\u001b[1;32m      <a href='vscode-notebook-cell://ssh-remote%2Bbupt_linux/home/users/jiangjin/jiangjin_bupt/ASR_CORRECTION/Context_Correction/context_seq2seq/data/sliding-4/data_create.ipynb#X10sdnNjb2RlLXJlbW90ZQ%3D%3D?line=2'>3</a>\u001b[0m     \u001b[39m# print(i)\u001b[39;00m\n\u001b[1;32m      <a href='vscode-notebook-cell://ssh-remote%2Bbupt_linux/home/users/jiangjin/jiangjin_bupt/ASR_CORRECTION/Context_Correction/context_seq2seq/data/sliding-4/data_create.ipynb#X10sdnNjb2RlLXJlbW90ZQ%3D%3D?line=3'>4</a>\u001b[0m     utt \u001b[39m=\u001b[39m \u001b[39m'\u001b[39m\u001b[39mutt\u001b[39m\u001b[39m'\u001b[39m\n\u001b[0;32m----> <a href='vscode-notebook-cell://ssh-remote%2Bbupt_linux/home/users/jiangjin/jiangjin_bupt/ASR_CORRECTION/Context_Correction/context_seq2seq/data/sliding-4/data_create.ipynb#X10sdnNjb2RlLXJlbW90ZQ%3D%3D?line=4'>5</a>\u001b[0m     label \u001b[39m=\u001b[39m labels[i] \u001b[39m+\u001b[39m labels[i\u001b[39m+\u001b[39m\u001b[39m1\u001b[39m] \u001b[39m+\u001b[39m labels[i\u001b[39m+\u001b[39m\u001b[39m2\u001b[39m] \u001b[39m+\u001b[39m labels[i\u001b[39m+\u001b[39;49m\u001b[39m3\u001b[39;49m] \n\u001b[1;32m      <a href='vscode-notebook-cell://ssh-remote%2Bbupt_linux/home/users/jiangjin/jiangjin_bupt/ASR_CORRECTION/Context_Correction/context_seq2seq/data/sliding-4/data_create.ipynb#X10sdnNjb2RlLXJlbW90ZQ%3D%3D?line=5'>6</a>\u001b[0m     record \u001b[39m=\u001b[39m records[i] \u001b[39m+\u001b[39m records[i\u001b[39m+\u001b[39m\u001b[39m1\u001b[39m] \u001b[39m+\u001b[39m records[i\u001b[39m+\u001b[39m\u001b[39m2\u001b[39m] \u001b[39m+\u001b[39m records[i\u001b[39m+\u001b[39m\u001b[39m3\u001b[39m] \n\u001b[1;32m      <a href='vscode-notebook-cell://ssh-remote%2Bbupt_linux/home/users/jiangjin/jiangjin_bupt/ASR_CORRECTION/Context_Correction/context_seq2seq/data/sliding-4/data_create.ipynb#X10sdnNjb2RlLXJlbW90ZQ%3D%3D?line=6'>7</a>\u001b[0m     utts\u001b[39m.\u001b[39mappend(utt)\n",
      "\u001b[0;31mIndexError\u001b[0m: list index out of range"
     ]
    }
   ],
   "source": [
    "utts, sliding_labels, sliding_records = [], [], []\n",
    "for i in range(0, len(labels), 4):\n",
    "    # print(i)\n",
    "    utt = 'utt'\n",
    "    label = labels[i] + labels[i+1] + labels[i+2] + labels[i+3] \n",
    "    record = records[i] + records[i+1] + records[i+2] + records[i+3] \n",
    "    utts.append(utt)\n",
    "    sliding_labels.append(label)\n",
    "    sliding_records.append(record)"
   ]
  },
  {
   "cell_type": "code",
   "execution_count": null,
   "metadata": {},
   "outputs": [],
   "source": [
    "with open(path_create, 'w') as f_data:\n",
    "    for i in range(len(utts)):\n",
    "        f_data.writelines(utts[i]+'\\t'+sliding_labels[i]+ '\\t'+sliding_records[i] + '\\n')"
   ]
  },
  {
   "cell_type": "code",
   "execution_count": null,
   "metadata": {},
   "outputs": [],
   "source": []
  }
 ],
 "metadata": {
  "kernelspec": {
   "display_name": "Python 3",
   "language": "python",
   "name": "python3"
  },
  "language_info": {
   "codemirror_mode": {
    "name": "ipython",
    "version": 3
   },
   "file_extension": ".py",
   "mimetype": "text/x-python",
   "name": "python",
   "nbconvert_exporter": "python",
   "pygments_lexer": "ipython3",
   "version": "3.8.8"
  },
  "orig_nbformat": 4,
  "vscode": {
   "interpreter": {
    "hash": "5b3228b2b04fe574edc1cfad377da45b01c8bfafeb5d7448f83b83b0b5984135"
   }
  }
 },
 "nbformat": 4,
 "nbformat_minor": 2
}
