{
 "cells": [
  {
   "cell_type": "code",
   "execution_count": 41,
   "metadata": {},
   "outputs": [],
   "source": [
    "k = 6"
   ]
  },
  {
   "cell_type": "code",
   "execution_count": 42,
   "metadata": {},
   "outputs": [],
   "source": [
    "path_data_source = '/home/jiangjin/context/data/zh/'\n",
    "path_data_create = '/home/jiangjin/context/data/sliding-k/sliding-'+str(k)+'/'\n",
    "import os\n",
    "if not os.path.exists(path_data_create):\n",
    "    os.mkdir(path_data_create)\n",
    "\n",
    "dataset = ['AISHELL-1', 'HKUST', 'LIBRISPEECH_CLEAN', 'LIBRISPEECH_OTHER'][0]\n",
    "mode = ['_dev.txt', '_test.txt', '_train.txt'][2]\n",
    "path_source = path_data_source +dataset+ '/' + dataset + mode\n",
    "path_create = path_data_create +dataset+ '/' + dataset + mode\n",
    "\n",
    "path = path_data_create +dataset+ '/'\n",
    "if not os.path.exists(path):\n",
    "    os.mkdir(path)"
   ]
  },
  {
   "cell_type": "code",
   "execution_count": 43,
   "metadata": {},
   "outputs": [],
   "source": [
    "!"
   ]
  },
  {
   "cell_type": "code",
   "execution_count": 44,
   "metadata": {},
   "outputs": [],
   "source": [
    "with open(path_source, 'r') as f_data:\n",
    "    data = f_data.readlines()"
   ]
  },
  {
   "cell_type": "code",
   "execution_count": 45,
   "metadata": {},
   "outputs": [
    {
     "data": {
      "text/plain": [
       "['utt\\tlabel\\trecord\\t0.04082002167339118\\n',\n",
       " 'BAC009S0002W0123\\t也成为地方政府的眼中钉。\\t也成为地方政府的眼中钉。\\n',\n",
       " 'BAC009S0002W0124\\t自六月底呼和浩特市率先宣布取消限购后。\\t自六月底呼和浩特市率先宣布取消限购后。\\n',\n",
       " 'BAC009S0002W0125\\t各地政府便纷纷跟进。\\t各地政府便纷纷跟进。\\n',\n",
       " 'BAC009S0002W0126\\t仅一个多月的时间里。\\t仅一个多月的时间里。\\n']"
      ]
     },
     "execution_count": 45,
     "metadata": {},
     "output_type": "execute_result"
    }
   ],
   "source": [
    "data[0:5]"
   ]
  },
  {
   "cell_type": "code",
   "execution_count": 46,
   "metadata": {},
   "outputs": [],
   "source": [
    "data = data[1:]"
   ]
  },
  {
   "cell_type": "code",
   "execution_count": 47,
   "metadata": {},
   "outputs": [
    {
     "data": {
      "text/plain": [
       "['BAC009S0002W0123', '也成为地方政府的眼中钉。', '也成为地方政府的眼中钉。']"
      ]
     },
     "execution_count": 47,
     "metadata": {},
     "output_type": "execute_result"
    }
   ],
   "source": [
    "data[0].strip().split('\\t')"
   ]
  },
  {
   "cell_type": "code",
   "execution_count": 48,
   "metadata": {},
   "outputs": [],
   "source": [
    "labels = [item.strip().split('\\t')[1] for item in data]\n",
    "records = [item.strip().split('\\t')[2] for item in data]"
   ]
  },
  {
   "cell_type": "code",
   "execution_count": 49,
   "metadata": {},
   "outputs": [
    {
     "data": {
      "text/plain": [
       "(120097, 120097)"
      ]
     },
     "execution_count": 49,
     "metadata": {},
     "output_type": "execute_result"
    }
   ],
   "source": [
    "len(labels), len(records)"
   ]
  },
  {
   "cell_type": "code",
   "execution_count": 50,
   "metadata": {},
   "outputs": [
    {
     "data": {
      "text/plain": [
       "1"
      ]
     },
     "execution_count": 50,
     "metadata": {},
     "output_type": "execute_result"
    }
   ],
   "source": [
    "len(records)%k"
   ]
  },
  {
   "cell_type": "code",
   "execution_count": 51,
   "metadata": {},
   "outputs": [
    {
     "data": {
      "text/plain": [
       "4"
      ]
     },
     "execution_count": 51,
     "metadata": {},
     "output_type": "execute_result"
    }
   ],
   "source": [
    "(len(records)+3)%k"
   ]
  },
  {
   "cell_type": "code",
   "execution_count": 52,
   "metadata": {},
   "outputs": [],
   "source": [
    "for _ in range(k-len(labels)%k):\n",
    "    labels.append(labels[-1])\n",
    "    records.append(records[-1])"
   ]
  },
  {
   "cell_type": "code",
   "execution_count": 53,
   "metadata": {},
   "outputs": [
    {
     "data": {
      "text/plain": [
       "(120102, 120102)"
      ]
     },
     "execution_count": 53,
     "metadata": {},
     "output_type": "execute_result"
    }
   ],
   "source": [
    "len(labels), len(records)"
   ]
  },
  {
   "cell_type": "code",
   "execution_count": 54,
   "metadata": {},
   "outputs": [
    {
     "data": {
      "text/plain": [
       "0"
      ]
     },
     "execution_count": 54,
     "metadata": {},
     "output_type": "execute_result"
    }
   ],
   "source": [
    "len(records)%k"
   ]
  },
  {
   "cell_type": "code",
   "execution_count": 55,
   "metadata": {},
   "outputs": [],
   "source": [
    "utts, sliding_labels, sliding_records = [], [], []\n",
    " # 可以根据需要修改步长\n",
    "\n",
    "for i in range(0, len(labels), k):\n",
    "    utt = 'utt'\n",
    "    label = \"\".join(labels[i:i+k])  # 使用切片来获取相邻 k 个标签并合并它们\n",
    "    record = \"\".join(records[i:i+k])  # 使用切片来获取相邻 k 个记录并合并它们\n",
    "    utts.append(utt)\n",
    "    sliding_labels.append(label)\n",
    "    sliding_records.append(record)"
   ]
  },
  {
   "cell_type": "code",
   "execution_count": 56,
   "metadata": {},
   "outputs": [],
   "source": [
    "# utts, sliding_labels, sliding_records = [], [], []\n",
    "# for i in range(0, len(labels), 4):\n",
    "#     # print(i)\n",
    "#     utt = 'utt'\n",
    "#     label = labels[i] + labels[i+1] + labels[i+2] + labels[i+3] \n",
    "#     record = records[i] + records[i+1] + records[i+2] + records[i+3] \n",
    "#     utts.append(utt)\n",
    "#     sliding_labels.append(label)\n",
    "#     sliding_records.append(record)"
   ]
  },
  {
   "cell_type": "code",
   "execution_count": 57,
   "metadata": {},
   "outputs": [],
   "source": [
    "with open(path_create, 'w') as f_data:\n",
    "    for i in range(len(utts)):\n",
    "        f_data.writelines(utts[i]+'\\t'+sliding_labels[i]+ '\\t'+sliding_records[i] + '\\n')"
   ]
  },
  {
   "cell_type": "code",
   "execution_count": null,
   "metadata": {},
   "outputs": [],
   "source": []
  }
 ],
 "metadata": {
  "kernelspec": {
   "display_name": "Python 3",
   "language": "python",
   "name": "python3"
  },
  "language_info": {
   "codemirror_mode": {
    "name": "ipython",
    "version": 3
   },
   "file_extension": ".py",
   "mimetype": "text/x-python",
   "name": "python",
   "nbconvert_exporter": "python",
   "pygments_lexer": "ipython3",
   "version": "3.8.16"
  },
  "orig_nbformat": 4,
  "vscode": {
   "interpreter": {
    "hash": "5b3228b2b04fe574edc1cfad377da45b01c8bfafeb5d7448f83b83b0b5984135"
   }
  }
 },
 "nbformat": 4,
 "nbformat_minor": 2
}
